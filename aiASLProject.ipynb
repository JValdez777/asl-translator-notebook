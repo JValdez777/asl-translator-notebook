{
  "nbformat": 4,
  "nbformat_minor": 0,
  "metadata": {
    "colab": {
      "provenance": [],
      "gpuType": "T4",
      "authorship_tag": "ABX9TyMWSwVoBDwlBsd24HiqJZNU",
      "include_colab_link": true
    },
    "kernelspec": {
      "name": "python3",
      "display_name": "Python 3"
    },
    "language_info": {
      "name": "python"
    },
    "accelerator": "GPU"
  },
  "cells": [
    {
      "cell_type": "markdown",
      "metadata": {
        "id": "view-in-github",
        "colab_type": "text"
      },
      "source": [
        "<a href=\"https://colab.research.google.com/github/JValdez777/asl-translator-notebook/blob/main/aiASLProject.ipynb\" target=\"_parent\"><img src=\"https://colab.research.google.com/assets/colab-badge.svg\" alt=\"Open In Colab\"/></a>"
      ]
    },
    {
      "cell_type": "code",
      "execution_count": 1,
      "metadata": {
        "id": "at2sk81h56wl"
      },
      "outputs": [],
      "source": [
        "!pip install --quiet --upgrade mediapipe==0.10.21\n"
      ]
    },
    {
      "cell_type": "markdown",
      "source": [
        "Sprint 1: setup webcam functionality and mediapipe hands.\n",
        "Goals:\n",
        "Understand MediaPipe API calls."
      ],
      "metadata": {
        "id": "0IGHvIQw8MG5"
      }
    },
    {
      "cell_type": "code",
      "source": [
        "!pip install --quiet opencv-python torch torchvision numpy matplotlib\n",
        "!pip freeze > requirements.txt\n"
      ],
      "metadata": {
        "id": "oigT54Nb8XOO"
      },
      "execution_count": 9,
      "outputs": []
    },
    {
      "cell_type": "code",
      "source": [
        "import cv2\n",
        "import mediapipe as mp\n",
        "import torch\n",
        "\n",
        "# Check that the 'solutions' namespace is present\n",
        "print(\"Has solutions module?\", hasattr(mp, \"solutions\"))\n",
        "\n",
        "# Now check inside solutions for the hands API\n",
        "print(\"Has hands in solutions?\", hasattr(mp.solutions, \"hands\"))\n",
        "\n",
        "print(\"OpenCV:\", cv2.__version__)\n",
        "print(\"Torch:\", torch.__version__)\n"
      ],
      "metadata": {
        "colab": {
          "base_uri": "https://localhost:8080/"
        },
        "id": "z_SDp1kb82pf",
        "outputId": "bd861ab0-a30f-4835-d585-5dedd33e87ce"
      },
      "execution_count": 6,
      "outputs": [
        {
          "output_type": "stream",
          "name": "stdout",
          "text": [
            "Has solutions module? True\n",
            "Has hands in solutions? True\n",
            "OpenCV: 4.11.0\n",
            "Torch: 2.6.0+cu124\n"
          ]
        }
      ]
    },
    {
      "cell_type": "code",
      "source": [
        "from google.colab"
      ],
      "metadata": {
        "id": "ZzkQ6E8AACkl"
      },
      "execution_count": 8,
      "outputs": []
    }
  ]
}