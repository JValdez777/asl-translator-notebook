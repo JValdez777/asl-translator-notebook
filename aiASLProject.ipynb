{
  "nbformat": 4,
  "nbformat_minor": 0,
  "metadata": {
    "colab": {
      "provenance": [],
      "gpuType": "T4",
      "authorship_tag": "ABX9TyNvEo7vH0WwuHLYK8EiXfws",
      "include_colab_link": true
    },
    "kernelspec": {
      "name": "python3",
      "display_name": "Python 3"
    },
    "language_info": {
      "name": "python"
    },
    "accelerator": "GPU"
  },
  "cells": [
    {
      "cell_type": "markdown",
      "metadata": {
        "id": "view-in-github",
        "colab_type": "text"
      },
      "source": [
        "<a href=\"https://colab.research.google.com/github/JValdez777/asl-translator-notebook/blob/main/aiASLProject.ipynb\" target=\"_parent\"><img src=\"https://colab.research.google.com/assets/colab-badge.svg\" alt=\"Open In Colab\"/></a>"
      ]
    },
    {
      "cell_type": "markdown",
      "source": [
        "Installing needed libraries"
      ],
      "metadata": {
        "id": "kA5IV3zOriES"
      }
    },
    {
      "cell_type": "code",
      "execution_count": 10,
      "metadata": {
        "id": "at2sk81h56wl"
      },
      "outputs": [],
      "source": [
        "!pip install --quiet --upgrade mediapipe==0.10.21\n",
        "!pip install --quiet opencv-python torch torchvision numpy matplotlib\n",
        "!pip freeze > requirements.txt"
      ]
    },
    {
      "cell_type": "markdown",
      "source": [
        "Sprint 1: setup webcam functionality and mediapipe hands.\n",
        "Goals:\n",
        "Understand MediaPipe API calls."
      ],
      "metadata": {
        "id": "0IGHvIQw8MG5"
      }
    },
    {
      "cell_type": "markdown",
      "source": [
        "For mounting onto drive and importing pretrained ai model."
      ],
      "metadata": {
        "id": "heESip4GrbNZ"
      }
    },
    {
      "cell_type": "code",
      "source": [
        "from google.colab import drive\n",
        "drive.mount('/content/drive')\n",
        "# For now, comment out loading weights—use a stub\n",
        "# model.load_state_dict(torch.load(...))\n",
        "# model.eval()\n"
      ],
      "metadata": {
        "colab": {
          "base_uri": "https://localhost:8080/"
        },
        "id": "oigT54Nb8XOO",
        "outputId": "0dc9b350-f8b4-4c01-d50f-e02648c49c4a"
      },
      "execution_count": 11,
      "outputs": [
        {
          "output_type": "stream",
          "name": "stdout",
          "text": [
            "Mounted at /content/drive\n"
          ]
        }
      ]
    },
    {
      "cell_type": "markdown",
      "source": [
        "Checking if everything imported and is working properly"
      ],
      "metadata": {
        "id": "6KzeddLqrnf9"
      }
    },
    {
      "cell_type": "code",
      "source": [
        "import cv2\n",
        "import mediapipe as mp\n",
        "import torch\n",
        "\n",
        "# Check that the 'solutions' namespace is present\n",
        "print(\"Has solutions module?\", hasattr(mp, \"solutions\"))\n",
        "\n",
        "# Now check inside solutions for the hands API\n",
        "print(\"Has hands in solutions?\", hasattr(mp.solutions, \"hands\"))\n",
        "\n",
        "print(\"OpenCV:\", cv2.__version__)\n",
        "print(\"Torch:\", torch.__version__)\n"
      ],
      "metadata": {
        "colab": {
          "base_uri": "https://localhost:8080/"
        },
        "id": "z_SDp1kb82pf",
        "outputId": "d54636b8-d46b-4899-be84-caa585f28c03"
      },
      "execution_count": 12,
      "outputs": [
        {
          "output_type": "stream",
          "name": "stdout",
          "text": [
            "Has solutions module? True\n",
            "Has hands in solutions? True\n",
            "OpenCV: 4.11.0\n",
            "Torch: 2.6.0+cu124\n"
          ]
        }
      ]
    },
    {
      "cell_type": "markdown",
      "source": [
        "Cell to check if camera works by loading js within an html block"
      ],
      "metadata": {
        "id": "08JUcQdurs7S"
      }
    },
    {
      "cell_type": "code",
      "source": [
        "from IPython.display import HTML, display\n",
        "\n",
        "display(HTML(\"\"\"\n",
        "<!-- Creates a blank html video element with size; autoplay tells it to start playing once u get data\n",
        " and playsinline prevents from going fullscreen for mobile-->\n",
        "<video id=\"video\" width=\"640\" height=\"480\" autoplay playsinline></video>\n",
        "<!-- JS Section Script-->\n",
        "<script>\n",
        "//defines and immediatly invokes this function.\n",
        "(async function() {\n",
        "  //grabs reference to video element 'video'\n",
        "  const vid = document.getElementById('video');\n",
        "  try {\n",
        "    //requsting camera access\n",
        "    const stream = await navigator.mediaDevices.getUserMedia({video: true});\n",
        "    //connects live stream camera to video element\n",
        "    vid.srcObject = stream;\n",
        "  }\n",
        "  //for catching errors if camera access is denied logs to console\n",
        "  catch (err) {\n",
        "    console.error('Camera error:', err);\n",
        "    alert('Could not access camera: ' + err.message);\n",
        "  }\n",
        "})();\n",
        "</script>\n",
        "\"\"\"))\n",
        "\n"
      ],
      "metadata": {
        "collapsed": true,
        "id": "vGBDw7fKq1hL"
      },
      "execution_count": null,
      "outputs": []
    },
    {
      "cell_type": "markdown",
      "source": [
        "<!-- 1. Creating and displaying a video element within the notebook-->\n",
        "<!-- 2. invoking a async funciton to\n",
        "  a) ask browser for webcam access\n",
        "  b) send frames to python-->\n",
        "<!-- 2a) Getting video element we set up in step 1-->\n",
        "<!-- 2b) Asking user for webcam permissions and getting the live stream-->\n",
        "\n",
        "<!-- 3. Setting up timer interval so that every 100 ms:\n",
        "  a) Draws the current video frame onto an off-screen canvas\n",
        "  b) encodes this canvas as a jpeg data-url (Base64 string)\n",
        "  c) send this back to python using colab's callback api-->\n",
        "\n",
        "<!-- error handling for camera\n",
        "  if the camera fails log error and alert-->"
      ],
      "metadata": {
        "id": "DgM6pYXC0wCG"
      }
    },
    {
      "cell_type": "markdown",
      "source": [
        " 1. Creating and displaying a video element within the notebook\n",
        " 2. invoking a async funciton to\n",
        "  a) ask browser for webcam access\n",
        "  b) send frames to python\n",
        "2a) Getting video element we set up in step 1\n",
        "2b) Asking user for webcam permissions and getting the live stream\n",
        "\n",
        " 3. Setting up timer interval so that every 100 ms:\n",
        "  a) Draws the current video frame onto an off-screen canvas\n",
        "  b) encodes this canvas as a jpeg data-url (Base64 string)\n",
        "  c) send this back to python using colab's callback api\n",
        "\n",
        "error handling for camera\n",
        "  if the camera fails log error and alert"
      ],
      "metadata": {
        "id": "uiMczcjt0yIe"
      }
    },
    {
      "cell_type": "code",
      "source": [
        "%%html\n",
        "<!-- 1. Creating and displaying a video element within the notebook-->\n",
        "<!-- 2. invoking a async funciton to\n",
        "  a) ask browser for webcam access\n",
        "  b) send frames to python-->\n",
        "<!-- 2a) Getting video element we set up in step 1-->\n",
        "<!-- 2b) Asking user for webcam permissions and getting the live stream-->\n",
        "\n",
        "<!-- 3. Setting up timer interval so that every 100 ms:\n",
        "  a) Draws the current video frame onto an off-screen canvas\n",
        "  b) encodes this canvas as a jpeg data-url (Base64 string)\n",
        "  c) send this back to python using colab's callback api-->\n",
        "\n",
        "<!-- error handling for camera\n",
        "  if the camera fails log error and alert-->\n",
        "\n"
      ],
      "metadata": {
        "id": "ZzkQ6E8AACkl",
        "colab": {
          "base_uri": "https://localhost:8080/",
          "height": 501
        },
        "outputId": "a1b5a689-1283-412b-d8dc-3747e6c58200"
      },
      "execution_count": 13,
      "outputs": [
        {
          "output_type": "display_data",
          "data": {
            "text/plain": [
              "<IPython.core.display.HTML object>"
            ],
            "text/html": [
              "<video id=\"cam\" width=640 height=480 autoplay playsinline></video>\n",
              "<script>\n",
              "  async function startCam() { /* ... invokeFunction loop ... */ }\n",
              "  startCam();\n",
              "</script>\n"
            ]
          },
          "metadata": {}
        }
      ]
    }
  ]
}